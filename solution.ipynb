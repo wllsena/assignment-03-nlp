{
 "cells": [
  {
   "cell_type": "code",
   "execution_count": 1,
   "id": "9a7f07af",
   "metadata": {},
   "outputs": [],
   "source": [
    "from os import listdir\n",
    "from os.path import isfile, join\n",
    "import nltk\n",
    "import re\n",
    "import conllu\n",
    "import regex"
   ]
  },
  {
   "cell_type": "markdown",
   "id": "054613a9",
   "metadata": {},
   "source": [
    "#### Função para obter as introduçãos de todos os arquivos de um determinado diretório"
   ]
  },
  {
   "cell_type": "code",
   "execution_count": 2,
   "id": "a32440b1",
   "metadata": {},
   "outputs": [],
   "source": [
    "def get_introductions(dir):\n",
    "    documents = []\n",
    "    introductions = []\n",
    "    for infile in listdir(dir):\n",
    "        if infile[-5:] != '.text':\n",
    "            continue\n",
    "            \n",
    "        with open(join(dir, infile), 'r') as file:\n",
    "            text = file.read()\n",
    "\n",
    "        regex_head = re.search('---\\n[\\S\\n ]*---\\n', text)\n",
    "        head = regex_head.group()\n",
    "        natureza = re.search('natureza: [\\S ]*\\n', head).group()\n",
    "        if natureza != 'natureza: biográfico\\n':\n",
    "            continue\n",
    "\n",
    "        paragraphs = text[regex_head.end():]\n",
    "        delimiter = re.search('\\n\\n', paragraphs)\n",
    "        if delimiter:\n",
    "            first_paragraph = paragraphs[:delimiter.start()]\n",
    "        else:\n",
    "            first_paragraph = paragraphs\n",
    "        first_paragraph = re.sub('\\n', ' ', first_paragraph)\n",
    "        first_paragraph = re.sub(' +', ' ', first_paragraph)\n",
    "        if first_paragraph in ['', ' ']:\n",
    "            continue\n",
    "            \n",
    "        introduction = nltk.tokenize.sent_tokenize(first_paragraph)[0]\n",
    "        # trocar filha por filho melhora os resultados do parser\n",
    "        introduction = re.sub('filha', 'filho', introduction)\n",
    "        introduction = re.sub('«', '', introduction)\n",
    "        introduction = re.sub('»', '', introduction)\n",
    "        introduction = re.sub('^ ', '', introduction)\n",
    "        introduction = re.sub(' $', '', introduction)\n",
    "        \n",
    "        documents.append(infile[:-5])\n",
    "        introductions.append(introduction)\n",
    "    \n",
    "    return documents, introductions"
   ]
  },
  {
   "cell_type": "markdown",
   "id": "91c6b22a",
   "metadata": {},
   "source": [
    "#### Nome dos documentos e as introduções dado o diretório dhbb/text"
   ]
  },
  {
   "cell_type": "code",
   "execution_count": 3,
   "id": "25fffbc2",
   "metadata": {},
   "outputs": [],
   "source": [
    "documents, introductions = get_introductions('dhbb/text')"
   ]
  },
  {
   "cell_type": "markdown",
   "id": "93c45dee",
   "metadata": {},
   "source": [
    "#### Salvar introduçãos no arquivo introductions.text"
   ]
  },
  {
   "cell_type": "code",
   "execution_count": 4,
   "id": "3b95349b",
   "metadata": {},
   "outputs": [],
   "source": [
    "with open('introductions.text', 'w') as file:\n",
    "    file.write('\\n\\n'.join(introductions))"
   ]
  },
  {
   "cell_type": "markdown",
   "id": "36892f68",
   "metadata": {},
   "source": [
    "#### Rodando o parser udpipe/src/udpipe dado o modelo portuguese-gsd-ud-2.5-191206.udpipe e o arquivo introductions.text. A saída é o arquivo introductions.conllu"
   ]
  },
  {
   "cell_type": "code",
   "execution_count": 5,
   "id": "f839a431",
   "metadata": {},
   "outputs": [
    {
     "name": "stdout",
     "output_type": "stream",
     "text": [
      "Loading UDPipe model: done.\n"
     ]
    }
   ],
   "source": [
    "!./udpipe/src/udpipe --tokenize --tokenizer=presegmented --tag --parse portuguese-gsd-ud-2.5-191206.udpipe introductions.text --outfile introductions.conllu"
   ]
  },
  {
   "cell_type": "markdown",
   "id": "b565f93f",
   "metadata": {},
   "source": [
    "#### Abrindo o arquivo introductions.conllu e armazendo as sentenças"
   ]
  },
  {
   "cell_type": "code",
   "execution_count": 6,
   "id": "f9a56df6",
   "metadata": {},
   "outputs": [],
   "source": [
    "with open('introductions.conllu', 'r') as file:\n",
    "    conllu_text = file.read()\n",
    "sentences = conllu.parse(conllu_text)"
   ]
  },
  {
   "cell_type": "markdown",
   "id": "78b3e4ed",
   "metadata": {},
   "source": [
    "#### Funções para obter o ramo da árvore da data de nascimento. is_date_tree1 é mais certo"
   ]
  },
  {
   "cell_type": "code",
   "execution_count": 7,
   "id": "05451abf",
   "metadata": {},
   "outputs": [],
   "source": [
    "def is_date_tree1(tree):\n",
    "    return (tree.token['lemma'] == 'dia'\n",
    "            or tree.token['lemma'] == 'mês'\n",
    "            or tree.token['lemma'] == 'ano')\n",
    "\n",
    "def is_date_tree2(tree):\n",
    "    return ((tree.token['deprel'] == 'nmod' \n",
    "             and tree.token['upos'] == 'NUM') # dia / ano\n",
    "            or (tree.token['deprel'] == 'nmod' \n",
    "                and tree.token['upos'] == 'PROPN')) # mês"
   ]
  },
  {
   "cell_type": "markdown",
   "id": "2ea06c4e",
   "metadata": {},
   "source": [
    "#### Funções para obter o ramo da árvore do local de nascimento. is_local_tree1 é mais certo"
   ]
  },
  {
   "cell_type": "code",
   "execution_count": 8,
   "id": "10190792",
   "metadata": {},
   "outputs": [],
   "source": [
    "def is_local_tree1(tree):\n",
    "    return (tree.token['deprel'] == 'nmod' \n",
    "            and tree.token['upos'] == 'PROPN') # nome do local\n",
    "\n",
    "def is_local_tree2(tree):\n",
    "    return (tree.token['deprel'] == 'nmod' \n",
    "            and tree.token['upos'] == 'NOUN') # tipo do local"
   ]
  },
  {
   "cell_type": "markdown",
   "id": "13f840e3",
   "metadata": {},
   "source": [
    "#### Funções para obter o ramo da árvore dos pais. is_parent_tree1 é mais certo"
   ]
  },
  {
   "cell_type": "code",
   "execution_count": 9,
   "id": "b5a99b5c",
   "metadata": {},
   "outputs": [],
   "source": [
    "def is_parent_tree1(tree):\n",
    "    return tree.token['lemma'] == 'filho'\n",
    "\n",
    "def is_parent_tree2(tree):\n",
    "    return (tree.token['deprel'] == 'conj'\n",
    "            and tree.token['upos'] == 'PROPN') # nome"
   ]
  },
  {
   "cell_type": "markdown",
   "id": "5b3aa822",
   "metadata": {},
   "source": [
    "#### Função para dado ramos e alguma das funções anteriores, retornar o ramo correspondente"
   ]
  },
  {
   "cell_type": "code",
   "execution_count": 10,
   "id": "c124a0e8",
   "metadata": {},
   "outputs": [],
   "source": [
    "def get_part_branch(branches, func):\n",
    "    for i, branch in enumerate(branches):\n",
    "        if func(branch):\n",
    "            branches.pop(i)\n",
    "            return branches[i:], branch\n",
    "    return branches, None"
   ]
  },
  {
   "cell_type": "markdown",
   "id": "1b3ce50d",
   "metadata": {},
   "source": [
    "#### Função para dado uma árvore, retornar todos os ramos desejados"
   ]
  },
  {
   "cell_type": "code",
   "execution_count": 11,
   "id": "95d6c25f",
   "metadata": {},
   "outputs": [],
   "source": [
    "def get_parts(tree):\n",
    "    branches = tree.children[:-1].copy()\n",
    "    \n",
    "    name_tree = branches.pop(0)\n",
    "    \n",
    "    branches_local , local_tree  = get_part_branch(branches      , is_local_tree1)\n",
    "    branches_date  , date_tree   = get_part_branch(branches_local, is_date_tree1)\n",
    "    branches_parent, parent_tree = get_part_branch(branches_date , is_parent_tree1)\n",
    "    \n",
    "    if not local_tree:\n",
    "        branches_local , local_tree   = get_part_branch(branches      , is_local_tree2)\n",
    "        \n",
    "    if not date_tree:\n",
    "        branches_date  , date_tree    = get_part_branch(branches_local, is_date_tree2)\n",
    "        \n",
    "    if not parent_tree:\n",
    "        branches_parent, parent_tree  = get_part_branch(branches_date , is_parent_tree2)\n",
    "        \n",
    "    if parent_tree:\n",
    "        _              , parent2_tree = get_part_branch(branches_parent, is_parent_tree2)\n",
    "    else:\n",
    "        parent2_tree = None\n",
    "        \n",
    "    return name_tree, local_tree, date_tree, parent_tree, parent2_tree"
   ]
  },
  {
   "cell_type": "markdown",
   "id": "030f3d5a",
   "metadata": {},
   "source": [
    "#### Função para retornar os tokens de um ramo"
   ]
  },
  {
   "cell_type": "code",
   "execution_count": 12,
   "id": "f676ab57",
   "metadata": {},
   "outputs": [],
   "source": [
    "def _get_tokens(tree):\n",
    "    tokens = [tree.token]\n",
    "    for child in tree.children:\n",
    "        tokens = tokens + _get_tokens(child)\n",
    "        \n",
    "    return tokens\n",
    "\n",
    "def get_tokens(tree):\n",
    "    tokens = _get_tokens(tree)\n",
    "    return sorted(tokens, key=lambda token: token['id'])"
   ]
  },
  {
   "cell_type": "markdown",
   "id": "b9b1e73a",
   "metadata": {},
   "source": [
    "#### Função para retornar o texto de um ramo"
   ]
  },
  {
   "cell_type": "code",
   "execution_count": 13,
   "id": "5ea0d4f8",
   "metadata": {
    "scrolled": true
   },
   "outputs": [],
   "source": [
    "def get_text(tree):\n",
    "    tokens = get_tokens(tree)\n",
    "    return ' '.join([token['form'] for token in tokens])"
   ]
  },
  {
   "cell_type": "markdown",
   "id": "39d53d39",
   "metadata": {},
   "source": [
    "#### Função para obter somente nome dado o ramo"
   ]
  },
  {
   "cell_type": "code",
   "execution_count": 14,
   "id": "2541546a",
   "metadata": {},
   "outputs": [],
   "source": [
    "def get_name(name_tree):\n",
    "    text = get_text(name_tree)\n",
    "    rex = regex.compile(r'[[:upper:]][\\w ]*')\n",
    "    match = rex.search(text)\n",
    "    if match:\n",
    "        return match.group(0)"
   ]
  },
  {
   "cell_type": "markdown",
   "id": "b479f60f",
   "metadata": {},
   "source": [
    "#### Função para obter somente o local de nascimento dado o ramo"
   ]
  },
  {
   "cell_type": "code",
   "execution_count": 15,
   "id": "e7613c42",
   "metadata": {},
   "outputs": [],
   "source": [
    "def get_local(local_tree):\n",
    "    if local_tree:\n",
    "        text = get_text(local_tree)\n",
    "        text = re.sub('\\( ', '(', text)\n",
    "        text = re.sub(' \\)', ')', text)\n",
    "        rex = regex.compile(r'([[:upper:]][\\w ]* \\([A-Z][A-Z]\\))|([[:upper:]][\\w ]*$)')\n",
    "        match = rex.search(text)\n",
    "        if match:\n",
    "            return match.group(0)"
   ]
  },
  {
   "cell_type": "markdown",
   "id": "176acca6",
   "metadata": {},
   "source": [
    "#### Função para obter somente a data de nascimento normalizada dado o ramo"
   ]
  },
  {
   "cell_type": "code",
   "execution_count": 16,
   "id": "804e4169",
   "metadata": {},
   "outputs": [],
   "source": [
    "meses = [('01', 'janeiro'),\n",
    "         ('02', 'fevereiro'),\n",
    "         ('03', 'março'),\n",
    "         ('04', 'abril'),\n",
    "         ('05', 'maio'),\n",
    "         ('06', 'junho'), \n",
    "         ('07', 'julho'),\n",
    "         ('08', 'agosto'),\n",
    "         ('09', 'setembro'),\n",
    "         ('10', 'outubro'),\n",
    "         ('11', 'novembro'),\n",
    "         ('12', 'dezembro')]\n",
    "\n",
    "def get_date(datetree):\n",
    "    if datetree:\n",
    "        text = get_text(datetree).lower()\n",
    "        text = re.sub(' º', '', text)\n",
    "        for num, mes in meses:\n",
    "            text = re.sub(mes, num, text)\n",
    "        rex = regex.compile(r'(\\d{1,2} de \\d\\d de \\d\\d\\d\\d)|(\\d\\d de \\d\\d\\d\\d)|(\\d\\d\\d\\d)')\n",
    "        match = rex.search(text)\n",
    "        if match:\n",
    "            text = match.group(0)\n",
    "            text = re.sub(' de ', '/', text)\n",
    "            return text"
   ]
  },
  {
   "cell_type": "markdown",
   "id": "f46cecfc",
   "metadata": {},
   "source": [
    "#### Função para obter somente os pais dado os ramos"
   ]
  },
  {
   "cell_type": "code",
   "execution_count": 17,
   "id": "9aff1b08",
   "metadata": {},
   "outputs": [],
   "source": [
    "def get_parents(parent_tree, parent2_tree):\n",
    "    if parent_tree:\n",
    "        text = get_text(parent_tree)\n",
    "        if parent2_tree:\n",
    "            text = text + ' ' + get_text(parent2_tree)\n",
    "        texts = text.split(' e ')\n",
    "        text1 = texts[0]\n",
    "        if len(texts) > 1:\n",
    "            text2 = texts[1]\n",
    "        else:\n",
    "            text2 = ''\n",
    "        \n",
    "        rex = regex.compile(r'[[:upper:]][\\w ]*')\n",
    "        \n",
    "        match1 = rex.search(text1)\n",
    "        if match1:\n",
    "            text1 = match1.group(0)\n",
    "        else:\n",
    "            text1 = None\n",
    "            \n",
    "        match2 = rex.search(text2)\n",
    "        if match2:\n",
    "            text2 = match2.group(0)\n",
    "        else:\n",
    "            text2 = None\n",
    "            \n",
    "        return text1, text2\n",
    "    \n",
    "    return None, None"
   ]
  },
  {
   "cell_type": "markdown",
   "id": "86b31196",
   "metadata": {},
   "source": [
    "#### Função para escrever no arquivo as informações desejadas dado as sentenças. Roda os processos anteriores"
   ]
  },
  {
   "cell_type": "code",
   "execution_count": 18,
   "id": "17a79f94",
   "metadata": {},
   "outputs": [],
   "source": [
    "def write_data(outfile, documents, sentences):\n",
    "    with open(outfile, 'w') as file:\n",
    "        for document, sentence in zip(documents, sentences):\n",
    "            file.write('---\\n')\n",
    "            tree = sentence.to_tree()\n",
    "            name_tree, local_tree, date_tree, parent_tree, parent2_tree = get_parts(tree)\n",
    "            if name_tree:\n",
    "                name = get_name(name_tree)\n",
    "                local = get_local(local_tree)\n",
    "                date = get_date(date_tree)\n",
    "                parent1, parent2 = get_parents(parent_tree, parent2_tree)\n",
    "\n",
    "                file.write(f'document   : {document}\\n')\n",
    "                file.write(f'name       : {name}\\n')\n",
    "                if local:\n",
    "                    file.write(f'birthplace : {local}\\n')\n",
    "                if date:\n",
    "                    file.write(f'birthdate  : {date}\\n')\n",
    "                if parent1:\n",
    "                    file.write('parents    :\\n')\n",
    "                    file.write(f'  - {parent1}\\n')\n",
    "                    if parent2:\n",
    "                        file.write(f'  - {parent2}\\n')"
   ]
  },
  {
   "cell_type": "markdown",
   "id": "68567f35",
   "metadata": {},
   "source": [
    "#### Executando a função para sentenças e o arquivo de saída data.yaml"
   ]
  },
  {
   "cell_type": "code",
   "execution_count": 19,
   "id": "3eef1121",
   "metadata": {},
   "outputs": [],
   "source": [
    "write_data('data.yaml', documents, sentences)"
   ]
  }
 ],
 "metadata": {
  "kernelspec": {
   "display_name": "Python 3 (ipykernel)",
   "language": "python",
   "name": "python3"
  },
  "language_info": {
   "codemirror_mode": {
    "name": "ipython",
    "version": 3
   },
   "file_extension": ".py",
   "mimetype": "text/x-python",
   "name": "python",
   "nbconvert_exporter": "python",
   "pygments_lexer": "ipython3",
   "version": "3.8.11"
  }
 },
 "nbformat": 4,
 "nbformat_minor": 5
}
